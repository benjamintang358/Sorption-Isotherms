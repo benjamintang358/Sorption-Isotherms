{
  "nbformat": 4,
  "nbformat_minor": 0,
  "metadata": {
    "colab": {
      "provenance": []
    },
    "kernelspec": {
      "name": "python3",
      "display_name": "Python 3"
    },
    "language_info": {
      "name": "python"
    }
  },
  "cells": [
    {
      "cell_type": "code",
      "source": [],
      "metadata": {
        "id": "AutHQwV5gmlN"
      },
      "execution_count": null,
      "outputs": []
    },
    {
      "cell_type": "markdown",
      "source": [
        "This will be for the sorption system. This streamlines the process of extracting usable data from the raw data."
      ],
      "metadata": {
        "id": "o26-vYr2qRDk"
      }
    },
    {
      "cell_type": "code",
      "source": [
        "from google.colab import drive\n",
        "drive.mount('/content/gdrive')"
      ],
      "metadata": {
        "colab": {
          "base_uri": "https://localhost:8080/"
        },
        "id": "saTQ-d80spvl",
        "outputId": "573a7026-f8b5-4148-eeb6-71f7faab5782"
      },
      "execution_count": null,
      "outputs": [
        {
          "output_type": "stream",
          "name": "stdout",
          "text": [
            "Mounted at /content/gdrive\n"
          ]
        }
      ]
    },
    {
      "cell_type": "markdown",
      "source": [
        "To use:\n",
        "\n",
        "1.   Need to upload the raw data from sorption system to Pascal Drive\n",
        "2.   Need to modify \"report.csv\" manually since pandas isn't smart enough. Use  \n",
        "         ctrl + f to replace all \",\" with \"\". Should be 5 replacements if 1 temp test. Upload this new report to the drive\n",
        "3.   Need to change file path names for \"data.csv\" and \"report.csv\"\n",
        "4.   Change the mass of sample, temp of run (to one decimal since used for name\n",
        "         searching later), name of sample, working gas\n",
        "5.   This script can do only one test temp at a time, similar to the Excel  \n",
        "     sheet has one sheet per temp.\n",
        "6.   Should run in ~5s.\n",
        "7.   Happy sorption!\n",
        "\n"
      ],
      "metadata": {
        "id": "j5oRP09dh722"
      }
    },
    {
      "cell_type": "code",
      "source": [
        "from re import M\n",
        "%reset\n",
        "import numpy as np\n",
        "import pandas as pd\n",
        "import matplotlib.pyplot as plt\n",
        "from scipy.optimize import curve_fit\n",
        "import statistics as st\n",
        "\n",
        "# See PyCharm help at https://www.jetbrains.com/help/pycharm/\n",
        "\n",
        "#Things the user must input\n",
        "#This script can only find curves for one temp, so need to change here for more runs (basically one sheet)\n",
        "#This has to match the same syntax as the report.csv\n",
        "mass_sample = 0.5960 #g\n",
        "T_run_C = 27.0 #C\n",
        "name_compound = \"C9\"\n",
        "working_gas = \"CO2\"\n",
        "T_run_K = T_run_C + 273.15 #K\n",
        "\n",
        "#Loading the data\n",
        "data = pd.read_csv('/content/gdrive/Shareddrives/Pascal/Technology/Chemistry/Jinyoung/archive/Sharon/Experimental Documentation/Sorption/Raw Data/241216-1419-241216 C9-powder 27C/data.csv')\n",
        "\n",
        "#Loading the report, need to get rid of all commas inside the csv file for this version\n",
        "report = pd.read_csv('/content/gdrive/Shareddrives/Pascal/Technology/Chemistry/Jinyoung/archive/Sharon/Experimental Documentation/Sorption/Raw Data/241216-1419-241216 C9-powder 27C/report3.csv', quotechar=\"'\", encoding='latin-1')\n",
        "\n",
        "#Parameters that I keep between experiments\n",
        "\n",
        "#Density sheet\n",
        "#Chamber volume\n",
        "v_c_small = 9.141 #cm^3, I think there is a typo in the Excel sheet\n",
        "v_c_large = 9.446 #cm^3, not used in density calculation but later\n",
        "\n",
        "#Virial Constants for N2\n",
        "a_N2 = 185.4 #cm^3/mol\n",
        "b_N2 = 141.8 #cm^3/mol\n",
        "c_N2 = 88.7 #K\n",
        "\n",
        "#Gas Constant\n",
        "R = 1205.9 #psi*cm^3/K*mol\n",
        "\n",
        "#Temperature\n",
        "T_C_N2 = 25 #C\n",
        "T_K_N2 = T_C_N2+273.15 #K\n",
        "\n",
        "#Second Virial Coefficient\n",
        "B_N2 = a_N2 - b_N2 * np.exp(c_N2/T_K_N2) #cm^3/mol\n",
        "\n",
        "\n",
        "#Now calculating the density sheet\n",
        "N2_initial = np.zeros(3)\n",
        "N2_final = np.zeros(3)\n",
        "vacuum_N2_start = np.zeros(3)\n",
        "vacuum_N2_raw = np.zeros(3)\n",
        "vacuum_N2_zeroed_initial = np.zeros(3)\n",
        "vacuum_N2_zeroed_final = np.zeros(3)\n",
        "PRT_initial = np.zeros(3)\n",
        "PRT_final = np.zeros(3)\n",
        "M_vol_initial = np.zeros(3)\n",
        "M_vol_final = np.zeros(3)\n",
        "M_vol_ratio = np.zeros(3)\n",
        "gas_vol = np.zeros(3)\n",
        "gas_vol_real = 0; #cm^3\n",
        "v_sample_holder = 3.59281546300944 #cm^3, this comes from calibration experiments\n",
        "\n",
        "\n",
        "#This is the key labels we need to search for\n",
        "s1 = 'Sequence 1: N2 at 25.0 °C'\n",
        "s2 = 'Sequence 2: N2 at 25.0 °C'\n",
        "s3 = 'Sequence 3: N2 at 25.0 °C'\n",
        "\n",
        "#This will look through the report labels\n",
        "for i in range(len(report)):\n",
        "    #These are finding the initial and final N2 pressures\n",
        "    if report.iloc[i,0]==s1:\n",
        "        N2_initial[0] = report.iloc[i+8,1]\n",
        "        N2_final[0] = report.iloc[i+9,1]\n",
        "        vacuum_N2_start[0] = (report.iloc[i+3,1])\n",
        "    elif report.iloc[i,0]==s2:\n",
        "        N2_initial[1] = report.iloc[i+8,1]\n",
        "        N2_final[1] = report.iloc[i+9,1]\n",
        "        vacuum_N2_start[1] = (report.iloc[i + 3, 1])\n",
        "    elif report.iloc[i,0]==s3:\n",
        "        N2_initial[2] = report.iloc[i+8,1]\n",
        "        N2_final[2] = report.iloc[i+9,1]\n",
        "        vacuum_N2_start[2] = (report.iloc[i + 3, 1])\n",
        "\n",
        "vacuum_N2_start = np.floor(vacuum_N2_start)\n",
        "\n",
        "#Here is finding the raw vacuum data\n",
        "for i in range(len(vacuum_N2_raw)):\n",
        "    #This is the orange vacuum pressures for zeroing\n",
        "    vacuum_N2_start[i] = int(vacuum_N2_start[i])\n",
        "    vacuum_N2_raw[i] = np.mean(data.iloc[(int(vacuum_N2_start[i])-100):int(vacuum_N2_start[i]),2])\n",
        "\n",
        "    #This is doing the zeroing\n",
        "    vacuum_N2_zeroed_initial[i] = N2_initial[i] - vacuum_N2_raw[i]\n",
        "    vacuum_N2_zeroed_final[i] = N2_final[i] - vacuum_N2_raw[i]\n",
        "\n",
        "    #This is doing some P/RT calculations\n",
        "    PRT_initial[i] = vacuum_N2_zeroed_initial[i]/(R*T_K_N2)\n",
        "    PRT_final[i] = vacuum_N2_zeroed_final[i] / (R * T_K_N2)\n",
        "\n",
        "    #This is doing molar volume calculations\n",
        "    M_vol_initial[i] = (1 + np.sqrt(1 - 4 * PRT_initial[i] * (-B_N2))) / (2 * PRT_initial[i])\n",
        "    M_vol_final[i] = (1 + np.sqrt(1 - 4 * PRT_final[i] * (-B_N2))) / (2 * PRT_final[i])\n",
        "    M_vol_ratio[i] = M_vol_final[i] / M_vol_initial[i] - 1\n",
        "\n",
        "    #This is calculating sample volume\n",
        "    gas_vol[i] = v_c_small * M_vol_ratio[i]\n",
        "#THIS MIGHT BE AN ERROR, SEEMS TO BE OFF BY 0.001 CM^3\n",
        "\n",
        "\n",
        "gas_vol_real = np.mean(gas_vol)\n",
        "v_sample = v_sample_holder - gas_vol_real #cm^3\n",
        "density_sample = mass_sample / v_sample #g/cm^3\n",
        "\n",
        "\n",
        "\n",
        "\n",
        "#Now calculating the sorption and desorption curve at a specific temp\n",
        "[r,c]=report.shape\n",
        "\n",
        "#This is for finding background vacuum pressure\n",
        "#This is the key labels we need to search for\n",
        "s5 = 'Sequence 5: ' + working_gas + ' at ' + str(T_run_C) +' °C'\n",
        "\n",
        "#These are parameters\n",
        "run_start = 0 #This is when the CO2 or C3H8 gets injected\n",
        "run_raw_background_high_P = np.zeros(300)\n",
        "run_raw_background_low_P = np.zeros(300)\n",
        "\n",
        "#These are the things the person will copy over\n",
        "run_initial = np.zeros(c*3).reshape(c,3)\n",
        "run_final = np.zeros(c*3).reshape(c,3)\n",
        "run_post = np.zeros((c+1)*3).reshape(c+1,3)\n",
        "v_charge = np.zeros(c)\n",
        "p_vac = np.zeros(c)\n",
        "n_tot = np.zeros(c+1)\n",
        "\n",
        "\n",
        "#This will look through the report labels\n",
        "for i in range(len(report)):\n",
        "    #These are finding the raw background vacuum pressures\n",
        "    if report.iloc[i,0]==s5:\n",
        "        run_start = np.floor(int((report.iloc[i+3,1])))\n",
        "        run_raw_background_high_P = data.iloc[(int(run_start) - 300):int(run_start), 1]\n",
        "        run_raw_background_low_P = data.iloc[(int(run_start) - 300):int(run_start), 2]\n",
        "\n",
        "# THIS IS PULLING THE DATA WEIRDLY, COULD BE AN ERROR\n",
        "        run_initial[0:-1,0] = report.iloc[i + 8, 1:c]\n",
        "        run_final[0:-1,0] = report.iloc[i + 9, 1:c]\n",
        "        run_post[1:-1,0] = report.iloc[i + 10, 1:c+1]\n",
        "        v_charge[0:-1] = report.iloc[i + 13, 1:c]\n",
        "\n",
        "#This finds the backgound pressure in vacuum before the run\n",
        "run_vacuum_background_low = np.mean(run_raw_background_low_P)\n",
        "run_vacuum_background_high = np.mean(run_raw_background_high_P)\n",
        "\n",
        "#Parameters for temperature sheets\n",
        "v_v = 0.02252 #cm^3\n",
        "B_star = (1.0971 * 10**2 - 8.4673 * 10**4 / T_run_K - 8.1215 * 10**6 / (T_run_K**2)\n",
        "      - 3.482 * 10**9 / (T_run_K**3)) / (8.314 * 10**6 * T_run_K)\n",
        "\n",
        "#This is finding the right charge volume and pressure vac\n",
        "for i in range(len(v_charge)):\n",
        "    if v_charge[i] == v_c_small:\n",
        "        p_vac[i] = run_vacuum_background_low * 6894.76\n",
        "    elif v_charge[i] == v_c_large:\n",
        "        p_vac[i] = run_vacuum_background_high * 6894.76\n",
        "\n",
        "#This adds the P_post initial conditions\n",
        "run_post[0] = run_vacuum_background_low\n",
        "\n",
        "#Now we have to calculate the other terms in the pressure stuff\n",
        "for i in range(len(run_initial)):\n",
        "    run_initial[i,1] = run_initial[i,0] * 6894.76\n",
        "    run_initial[i,2] = 1 + B_star * (run_initial[i,1]-p_vac[i])\n",
        "\n",
        "for i in range(len(run_final)):\n",
        "    run_final[i,1] = run_final[i,0] * 6894.76\n",
        "    run_final[i,2] = 1 + B_star * (run_final[i,1]-p_vac[i])\n",
        "\n",
        "for i in range(len(run_post)):\n",
        "    run_post[i,1] = run_post[i,0] * 6894.76\n",
        "    run_post[i,2] = 1 + B_star * (run_post[i,1]-p_vac[i-1])\n",
        "\n",
        "#Now find n_tot\n",
        "#This calculates the total moles absorbed - note it is off from the Excel sheet since v_c was wrong in the sheet I think\n",
        "for i in range(len(n_tot)-1):\n",
        "    n_tot[i+1] = (n_tot[i] + \\\n",
        "                 (run_initial[i,1]-p_vac[i]) * v_charge[i] / (run_initial[i,2] * 8.314 * 10**6 * T_run_K) \\\n",
        "                  + ((run_final[i-1,1] - p_vac[i]) * (v_charge[i-1] + v_sample_holder + v_v - v_sample) / run_final[i-1,2] \\\n",
        "                        - (run_post[i,1] - p_vac[i]) * v_charge[i-1] / run_post[i,2]) / (8.314*10**6 * T_run_K) \\\n",
        "                            - (run_final[i,1] - p_vac[i]) * (v_charge[i] + v_sample_holder + v_v - v_sample) / (run_final[i,2] * 8.314*10**6 * T_run_K))\n",
        "\n",
        "#Calculate the rest of the sheet columns\n",
        "p_bar = np.zeros(c)\n",
        "for i in range(len(p_bar)-1):\n",
        "    p_bar[i+1] = run_final[i,1] / 100000\n",
        "\n",
        "C_STP = n_tot * 22.4 *1000 / v_sample #cm^3 (STP) /cm^3\n",
        "C_mmol = n_tot[0:-1] * 1000 / mass_sample\n",
        "\n",
        "\n",
        "\n",
        "\n",
        "#Now plotting the data\n",
        "plt.plot(p_bar, C_mmol,'bo-')\n",
        "plt.xlabel(\"Pressure Bar\")\n",
        "plt.ylabel(\"mmol/g\")\n",
        "plt.title(\"Sorption curve for \" + str(name_compound) + \" at \" + str(T_run_C) + \" C\")\n",
        "plt.grid(visible=True, which='major', color='k', linestyle='--')\n",
        "plt.grid(visible=True, which='minor', color='k', linestyle='--')\n",
        "plt.show()\n",
        "\n",
        "\n",
        "print(\"The density of the sample is \" + str(density_sample) + \" g/cm^3\")\n",
        "print(\"The code has finished running\")\n"
      ],
      "metadata": {
        "colab": {
          "base_uri": "https://localhost:8080/",
          "height": 524
        },
        "id": "ch9h1lBie3iA",
        "outputId": "e4e852e2-f89c-428f-daf4-63e82570db17"
      },
      "execution_count": null,
      "outputs": [
        {
          "name": "stdout",
          "output_type": "stream",
          "text": [
            "Once deleted, variables cannot be recovered. Proceed (y/[n])? y\n"
          ]
        },
        {
          "output_type": "display_data",
          "data": {
            "text/plain": [
              "<Figure size 640x480 with 1 Axes>"
            ],
            "image/png": "[encoded data removed]"
          },
          "metadata": {}
        },
        {
          "output_type": "stream",
          "name": "stdout",
          "text": [
            "The density of the sample is nan g/cm^3\n",
            "The code has finished running\n"
          ]
        }
      ]
    },
    {
      "cell_type": "code",
      "source": [],
      "metadata": {
        "id": "PtvtNnlzcg6Y"
      },
      "execution_count": null,
      "outputs": []
    }
  ]
}